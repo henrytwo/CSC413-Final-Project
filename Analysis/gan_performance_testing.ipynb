{
 "cells": [
  {
   "cell_type": "code",
   "execution_count": null,
   "metadata": {
    "id": "y42lNZgGvSKL"
   },
   "outputs": [],
   "source": [
    "import numpy as np\n",
    "import matplotlib.pyplot as plt\n",
    "import random"
   ]
  },
  {
   "cell_type": "markdown",
   "metadata": {
    "id": "I2gCLWHuvVu9"
   },
   "source": [
    "# Download data"
   ]
  },
  {
   "cell_type": "code",
   "execution_count": null,
   "metadata": {
    "colab": {
     "base_uri": "https://localhost:8080/"
    },
    "id": "GAw03lSfvMYG",
    "outputId": "31abdf6c-eb8b-4988-975c-f4b7ee17df09"
   },
   "outputs": [],
   "source": [
    "# !curl https://storage.googleapis.com/dcgan_data/images_0.npy --output images_0.npy"
   ]
  },
  {
   "cell_type": "code",
   "execution_count": null,
   "metadata": {
    "id": "fY96zjy0veUb"
   },
   "outputs": [],
   "source": [
    "# Use subset of real images to avoid memory issues\n",
    "real_images = np.load(\"images_0.npy\")"
   ]
  },
  {
   "cell_type": "code",
   "execution_count": null,
   "metadata": {
    "colab": {
     "base_uri": "https://localhost:8080/"
    },
    "id": "RnNwHhDd3LkZ",
    "outputId": "6726ef9a-69cc-4585-c2f3-d548ca8f51f8"
   },
   "outputs": [],
   "source": [
    "# !curl https://storage.googleapis.com/dcgan_data/coco_images.npy --output coco_images.npy"
   ]
  },
  {
   "cell_type": "code",
   "execution_count": null,
   "metadata": {
    "id": "m2qaP6cp3Tbu"
   },
   "outputs": [],
   "source": [
    "coco_images = np.load(\"coco_images.npy\")/255"
   ]
  },
  {
   "cell_type": "code",
   "execution_count": null,
   "metadata": {},
   "outputs": [],
   "source": [
    "# !curl http://internal.henrytu.me/export-stylegan-1617977658-10000-100-swapped.npy --output stylegan_images.npy\n",
    "#     sha256sum of 5f589d0045722a9f29251fce09931cbc608d1f4a273a945644f9430ba0ae11a7\n",
    "# !curl https://storage.googleapis.com/dcgan_data/export-stylegan-1617977658-10000-100-swapped.npy --output stylegan_images.npy"
   ]
  },
  {
   "cell_type": "code",
   "execution_count": null,
   "metadata": {},
   "outputs": [],
   "source": [
    "stylegan_images = np.load(\"stylegan_images.npy\") / 255\n",
    "stylegan_images = np.moveaxis(stylegan_images, 1, -1)"
   ]
  },
  {
   "cell_type": "code",
   "execution_count": null,
   "metadata": {},
   "outputs": [],
   "source": [
    "print(np.min(stylegan_images), np.max(stylegan_images))\n",
    "print(np.min(real_images), np.max(real_images))\n",
    "print(np.min(coco_images), np.max(coco_images))"
   ]
  },
  {
   "cell_type": "code",
   "execution_count": null,
   "metadata": {},
   "outputs": [],
   "source": [
    "print(stylegan_images.shape)\n",
    "print(real_images.shape)\n",
    "print(coco_images.shape)"
   ]
  },
  {
   "cell_type": "code",
   "execution_count": null,
   "metadata": {},
   "outputs": [],
   "source": [
    "# Take subset of data\n",
    "subset_size = 1024\n",
    "stylegan_images = stylegan_images[:subset_size]\n",
    "coco_images = coco_images[:subset_size]\n",
    "real_images = real_images[:subset_size]"
   ]
  },
  {
   "cell_type": "code",
   "execution_count": null,
   "metadata": {},
   "outputs": [],
   "source": [
    "print(stylegan_images.shape)\n",
    "print(real_images.shape)\n",
    "print(coco_images.shape)"
   ]
  },
  {
   "cell_type": "markdown",
   "metadata": {
    "id": "9gGmcWJQ3b99"
   },
   "source": [
    "# Visualize Images\n"
   ]
  },
  {
   "cell_type": "code",
   "execution_count": null,
   "metadata": {
    "id": "7NI4EKB03YM-"
   },
   "outputs": [],
   "source": [
    "plt.rcParams[\"axes.grid\"] = False\n",
    "def display_images(images, columns, rows, randomize = True):\n",
    "  w=256\n",
    "  h=256\n",
    "  fig=plt.figure(figsize=(columns * 3, rows * 3))\n",
    "\n",
    "#   gs1 = gridspec.GridSpec(columns, rows)\n",
    "#   gs1.update(wspace=0.025, hspace=0.05) # set the spacing between axes.\n",
    "\n",
    "  for i in range(1, columns*rows +1):      \n",
    "      img = images[i-1]\n",
    "      if randomize:\n",
    "        img = images[random.randint(0, images.shape[0]-1)]\n",
    "      fig.add_subplot(rows, columns, i)\n",
    "      \n",
    "      plt.axis('off')\n",
    "      plt.imshow(img)  \n",
    "        \n",
    "        \n",
    "  fig.subplots_adjust(wspace=0, hspace=0)\n",
    "  plt.axis('off')\n",
    "  plt.show()\n",
    "\n",
    "def display_images_grayscale(images, columns, rows, randomize = True, scale_brightness = False):\n",
    "  w=256\n",
    "  h=256\n",
    "  fig=plt.figure(figsize=(columns * 3, rows * 3))\n",
    "\n",
    "  for i in range(1, columns*rows +1):      \n",
    "      img = images[i-1]\n",
    "      if randomize:\n",
    "        img = images[random.randint(0, images.shape[0]-1)]\n",
    "    \n",
    "      if scale_brightness:\n",
    "        img = img * 5\n",
    "            \n",
    "      fig.add_subplot(rows, columns, i)  \n",
    "      plt.axis('off')\n",
    "      plt.imshow(img, cmap='gray', vmin=0, vmax=255)  \n",
    "  fig.subplots_adjust(wspace=0, hspace=0)\n",
    "  plt.axis('off')\n",
    "  plt.show()\n",
    "\n",
    "def display_image(image):  \n",
    "  imgplot = plt.imshow(image)\n",
    "  plt.axis('off')\n",
    "  plt.show()\n",
    "    \n",
    "def display_image_grayscale(image):  \n",
    "  imgplot = plt.imshow(image, cmap='gray', vmin=0, vmax=255)\n",
    "  plt.axis('off')\n",
    "  plt.show()"
   ]
  },
  {
   "cell_type": "code",
   "execution_count": null,
   "metadata": {
    "colab": {
     "base_uri": "https://localhost:8080/",
     "height": 704
    },
    "id": "Wgr2jvtG3ZXC",
    "outputId": "f500b67c-4ca6-49d8-d0f9-f93967f36768"
   },
   "outputs": [],
   "source": [
    "display_images(coco_images, 4, 2)"
   ]
  },
  {
   "cell_type": "code",
   "execution_count": null,
   "metadata": {
    "colab": {
     "base_uri": "https://localhost:8080/",
     "height": 704
    },
    "id": "FPwrM-9D4Pqs",
    "outputId": "cb3005dc-7d51-440d-a15e-7b96dd9780b9"
   },
   "outputs": [],
   "source": [
    "display_images(real_images, 4, 4)"
   ]
  },
  {
   "cell_type": "code",
   "execution_count": null,
   "metadata": {},
   "outputs": [],
   "source": [
    "display_images(stylegan_images, 4, 4)"
   ]
  },
  {
   "cell_type": "markdown",
   "metadata": {
    "id": "_DULvzU24jiJ"
   },
   "source": [
    "# Metrics"
   ]
  },
  {
   "cell_type": "markdown",
   "metadata": {
    "id": "9yYtb3EJDLqz"
   },
   "source": [
    "## Closest Image"
   ]
  },
  {
   "cell_type": "code",
   "execution_count": null,
   "metadata": {
    "id": "UqEDDitP4mbh"
   },
   "outputs": [],
   "source": [
    "def k_nearest_images(images, test_image, k, test_image_index):\n",
    "  shape = images.shape\n",
    "  means = np.power(images - test_image, 2).reshape((shape[0], shape[1]*shape[2]*shape[3])).mean(axis = 1)  \n",
    "  idx = means.argsort()[:k+1]  \n",
    "  idx = np.setdiff1d(idx, np.array([test_image_index]))  \n",
    "  print(idx)\n",
    "  return images[idx]"
   ]
  },
  {
   "cell_type": "markdown",
   "metadata": {
    "id": "GiU-0rlmDUL8"
   },
   "source": [
    "### Coco to Coco"
   ]
  },
  {
   "cell_type": "code",
   "execution_count": null,
   "metadata": {
    "colab": {
     "base_uri": "https://localhost:8080/",
     "height": 269
    },
    "id": "Zgte6MRl9D6u",
    "outputId": "5cd1520d-d343-4bb6-b434-75e97e9c7589"
   },
   "outputs": [],
   "source": [
    "coco_test_image_idx = 24\n",
    "display_image(coco_images[coco_test_image_idx])"
   ]
  },
  {
   "cell_type": "code",
   "execution_count": null,
   "metadata": {
    "colab": {
     "base_uri": "https://localhost:8080/",
     "height": 721
    },
    "id": "_vUE0hQD5DVE",
    "outputId": "fb12bc9f-c1f8-4238-eafd-15ee18147a48"
   },
   "outputs": [],
   "source": [
    "display_images(k_nearest_images(coco_images, coco_images[coco_test_image_idx], 16, coco_test_image_idx), 4, 4, randomize=False)"
   ]
  },
  {
   "cell_type": "markdown",
   "metadata": {
    "id": "i-bJaoXmDYij"
   },
   "source": [
    "### Stylegan to Stylegan"
   ]
  },
  {
   "cell_type": "code",
   "execution_count": null,
   "metadata": {
    "colab": {
     "base_uri": "https://localhost:8080/",
     "height": 269
    },
    "id": "3RlBCNJ8Ch6j",
    "outputId": "5fada136-e439-46ef-f4de-20f70a9b5921"
   },
   "outputs": [],
   "source": [
    "stylegan_image_idx = 102\n",
    "display_image(stylegan_images[stylegan_image_idx])"
   ]
  },
  {
   "cell_type": "code",
   "execution_count": null,
   "metadata": {
    "colab": {
     "base_uri": "https://localhost:8080/",
     "height": 721
    },
    "id": "IRa3DkCd9UV7",
    "outputId": "a4e12a21-7a06-4f53-8a42-7230dbe88a4b"
   },
   "outputs": [],
   "source": [
    "display_images(k_nearest_images(stylegan_images, stylegan_images[stylegan_image_idx], 16, stylegan_image_idx), 4,4, randomize=False)"
   ]
  },
  {
   "cell_type": "markdown",
   "metadata": {
    "id": "wdrSlIazK29q"
   },
   "source": [
    "### Closest matches from fake Cocogan image to real ones"
   ]
  },
  {
   "cell_type": "code",
   "execution_count": null,
   "metadata": {
    "colab": {
     "base_uri": "https://localhost:8080/",
     "height": 269
    },
    "id": "7mMB3BioLQIt",
    "outputId": "01b285c4-1942-4925-85e7-4adb7a27f3e3"
   },
   "outputs": [],
   "source": [
    "coco_test_image_idx = 55\n",
    "display_image(coco_images[coco_test_image_idx])"
   ]
  },
  {
   "cell_type": "code",
   "execution_count": null,
   "metadata": {
    "colab": {
     "base_uri": "https://localhost:8080/",
     "height": 721
    },
    "id": "PtxGQsLYANGw",
    "outputId": "57517590-6801-442e-c37c-a5060e14022c"
   },
   "outputs": [],
   "source": [
    "display_images(k_nearest_images(real_images, coco_images[coco_test_image_idx], 16, 1024), 4, 2, randomize=False)"
   ]
  },
  {
   "cell_type": "markdown",
   "metadata": {
    "id": "wdrSlIazK29q"
   },
   "source": [
    "### Closest matches from fake Stylegan image to real ones"
   ]
  },
  {
   "cell_type": "code",
   "execution_count": null,
   "metadata": {},
   "outputs": [],
   "source": [
    "stylegan_image_idx = 102\n",
    "display_image(stylegan_images[stylegan_image_idx])"
   ]
  },
  {
   "cell_type": "code",
   "execution_count": null,
   "metadata": {},
   "outputs": [],
   "source": [
    "display_images(k_nearest_images(real_images, stylegan_images[stylegan_image_idx], 16, 1024), 4,2, randomize=False)"
   ]
  },
  {
   "cell_type": "markdown",
   "metadata": {
    "id": "MHcXP6tRkCPy"
   },
   "source": [
    "## Find Closest Image By Color"
   ]
  },
  {
   "cell_type": "code",
   "execution_count": null,
   "metadata": {},
   "outputs": [],
   "source": [
    "def closest_k_by_color(images, color, k, test_image_index):\n",
    "    image_colors = images.reshape(images.shape[0], 256*256, 3).mean(axis=1)\n",
    "    means = np.power(image_colors - color, 2).mean(axis = 1)  \n",
    "    idx = means.argsort()[:k+1]  \n",
    "    idx = np.setdiff1d(idx, np.array([test_image_index])) \n",
    "    return images[idx]\n"
   ]
  },
  {
   "cell_type": "code",
   "execution_count": null,
   "metadata": {},
   "outputs": [],
   "source": [
    "# 105, 202, 323\n",
    "coco_test_image_idx = 202\n",
    "display_image(coco_images[coco_test_image_idx])"
   ]
  },
  {
   "cell_type": "code",
   "execution_count": null,
   "metadata": {},
   "outputs": [],
   "source": [
    "stylegan_image_idx = 125\n",
    "\n",
    "sg_image_avg_color = stylegan_images[stylegan_image_idx].reshape((256*256,3)).mean(axis=0)\n",
    "print(sg_image_avg_color)\n",
    "\n",
    "display_image(stylegan_images[stylegan_image_idx])"
   ]
  },
  {
   "cell_type": "code",
   "execution_count": null,
   "metadata": {},
   "outputs": [],
   "source": [
    "display_images(closest_k_by_color(stylegan_images, sg_image_avg_color, 16, stylegan_image_idx), 4, 4, False)"
   ]
  },
  {
   "cell_type": "code",
   "execution_count": null,
   "metadata": {},
   "outputs": [],
   "source": []
  },
  {
   "cell_type": "code",
   "execution_count": null,
   "metadata": {},
   "outputs": [],
   "source": [
    "# Find noise with colors from coco 105\n",
    "display_images(closest_k_by_color(coco_images, np.array([87,46,93])/255, 16, stylegan_image_idx), 4, 4, False)"
   ]
  },
  {
   "cell_type": "code",
   "execution_count": null,
   "metadata": {},
   "outputs": [],
   "source": [
    "# coco 202 noise\n",
    "display_images(closest_k_by_color(coco_images, np.array([124,193,194])/255, 16, stylegan_image_idx), 4, 4, False)"
   ]
  },
  {
   "cell_type": "code",
   "execution_count": null,
   "metadata": {},
   "outputs": [],
   "source": [
    "# possible failure mode 0.3, 0.6, 0.6.\n",
    "# Both blue and green have a peak at this point in the histograms\n",
    "display_images(closest_k_by_color(coco_images, np.array([0.3,0.6,0.6]), 16, 2000), 4, 4, False)"
   ]
  },
  {
   "cell_type": "code",
   "execution_count": null,
   "metadata": {},
   "outputs": [],
   "source": [
    "# Sky color based failure?\n",
    "display_images(closest_k_by_color(stylegan_images, np.array([0.3,0.6,0.6]), 16, 2000), 4,4, False)"
   ]
  },
  {
   "cell_type": "markdown",
   "metadata": {
    "id": "MHcXP6tRkCPy"
   },
   "source": [
    "## Sharpness"
   ]
  },
  {
   "cell_type": "code",
   "execution_count": null,
   "metadata": {},
   "outputs": [],
   "source": [
    "def to_grayscale(images):\n",
    "  return np.mean(np.moveaxis(images, -1, 1), axis=1)\n",
    "\n",
    "def compute_sharpness(images):\n",
    "    grayscale_images = to_grayscale(images) * 255\n",
    "    sharpness_values = []\n",
    "    \n",
    "    for i in range(grayscale_images.shape[0]):\n",
    "        curr_image = grayscale_images[i]\n",
    "        dy, dx = np.gradient(curr_image)\n",
    "        norm = np.sqrt(dx**2 + dy**2)\n",
    "        sharpness_values.append(np.mean(norm))\n",
    "    \n",
    "    return np.array(sharpness_values)\n",
    "        \n",
    "\n",
    "coco_sharpness = compute_sharpness(coco_images)\n",
    "stylegan_sharpness = compute_sharpness(stylegan_images)\n",
    "real_sharpness = compute_sharpness(real_images)"
   ]
  },
  {
   "cell_type": "code",
   "execution_count": null,
   "metadata": {},
   "outputs": [],
   "source": [
    "print(coco_sharpness.mean(), coco_sharpness.std())\n",
    "print(stylegan_sharpness.mean(), stylegan_sharpness.std())\n",
    "print(real_sharpness.mean(), real_sharpness.std())"
   ]
  },
  {
   "cell_type": "code",
   "execution_count": null,
   "metadata": {},
   "outputs": [],
   "source": [
    "def find_images_by_sharpness(images, sharpness_levels, k, mode = \"min\"):     \n",
    "    idx = sharpness_levels.argsort()  \n",
    "    if mode != \"min\":\n",
    "        idx = np.flip(idx)\n",
    "    \n",
    "    idx = idx[:k+1]\n",
    "        \n",
    "    return images[idx], idx\n",
    "\n",
    "def get_sharpness_images(images):\n",
    "    grayscale_images = to_grayscale(images) * 255\n",
    "    sharpness_images = []\n",
    "    \n",
    "    for i in range(grayscale_images.shape[0]):\n",
    "        curr_image = grayscale_images[i]\n",
    "        dy, dx = np.gradient(curr_image)\n",
    "        sharpness_images.append(dx+dy)\n",
    "    \n",
    "    return np.array(sharpness_images)\n",
    "    "
   ]
  },
  {
   "cell_type": "code",
   "execution_count": null,
   "metadata": {},
   "outputs": [],
   "source": [
    "images, idx = find_images_by_sharpness(coco_images, coco_sharpness, 16, mode = 'max')\n",
    "\n",
    "print(coco_sharpness[idx])\n",
    "display_images(coco_images[idx], 4, 4, False)\n"
   ]
  },
  {
   "cell_type": "code",
   "execution_count": null,
   "metadata": {},
   "outputs": [],
   "source": [
    "display_images_grayscale(get_sharpness_images(coco_images[idx]), 4, 4, False, True)"
   ]
  },
  {
   "cell_type": "code",
   "execution_count": null,
   "metadata": {},
   "outputs": [],
   "source": [
    "images, idx = find_images_by_sharpness(stylegan_images, stylegan_sharpness, 16, mode = 'max')\n",
    "\n",
    "print(stylegan_sharpness[idx])\n",
    "display_images(stylegan_images[idx], 4, 4, False)\n"
   ]
  },
  {
   "cell_type": "code",
   "execution_count": null,
   "metadata": {},
   "outputs": [],
   "source": [
    "display_images_grayscale(get_sharpness_images(stylegan_images[idx]), 4, 4, False, True)"
   ]
  },
  {
   "cell_type": "code",
   "execution_count": null,
   "metadata": {},
   "outputs": [],
   "source": [
    "images, idx = find_images_by_sharpness(coco_images, coco_sharpness, 16)\n",
    "\n",
    "print(coco_sharpness[idx])\n",
    "display_images(coco_images[idx], 4, 4, False)"
   ]
  },
  {
   "cell_type": "code",
   "execution_count": null,
   "metadata": {},
   "outputs": [],
   "source": [
    "images, idx = find_images_by_sharpness(stylegan_images, stylegan_sharpness, 16)\n",
    "\n",
    "print(stylegan_sharpness[idx])\n",
    "display_images(stylegan_images[idx], 4, 4, False)"
   ]
  },
  {
   "cell_type": "markdown",
   "metadata": {
    "id": "MHcXP6tRkCPy"
   },
   "source": [
    "## KL Divergence Of Color Distribution"
   ]
  },
  {
   "cell_type": "code",
   "execution_count": null,
   "metadata": {
    "colab": {
     "base_uri": "https://localhost:8080/"
    },
    "id": "eL7eR-DvkDFV",
    "outputId": "599d5669-2296-4016-c4a3-ff6bffe0b877"
   },
   "outputs": [],
   "source": [
    "# Reference: https://machinelearningmastery.com/divergence-between-probability-distributions/\n",
    "\n",
    "def to_grayscale(images):\n",
    "  return np.mean(np.moveaxis(images, -1, 1), axis=1)\n",
    "\n",
    "def kl_divergence(p, q):\n",
    "  p = to_grayscale(p)\n",
    "  q = to_grayscale(q)\n",
    "  \n",
    "\n",
    "  p = p.reshape((p.shape[0], p.shape[1] * p.shape[2]))\n",
    "  q = q.reshape((q.shape[0], q.shape[1] * q.shape[2]))\n",
    "  \n",
    "\n",
    "  p_histo = np.histogram(p, 25, density=True)[0]\n",
    "  q_histo = np.histogram(q, 25, density=True)[0]  \n",
    "\n",
    "  return np.sum(p_histo * np.log2(p_histo/q_histo)), p_histo, q_histo\n",
    "\n",
    "def color_kl_divergence(p, q, channel_num):\n",
    "  # r = 0, g = 1, b = 2\n",
    "\n",
    "  p = np.moveaxis(p, -1, 1)[:, channel_num]\n",
    "  q = np.moveaxis(q, -1, 1)[:, channel_num]\n",
    "  \n",
    "\n",
    "  p = p.reshape((p.shape[0], p.shape[1] * p.shape[2]))\n",
    "  q = q.reshape((q.shape[0], q.shape[1] * q.shape[2]))\n",
    "  \n",
    "\n",
    "  p_histo = np.histogram(p, 25, density=True)[0]\n",
    "  q_histo = np.histogram(q, 25, density=True)[0]  \n",
    "\n",
    "  return np.sum(p_histo * np.log2(p_histo/q_histo)), p_histo, q_histo\n",
    "\n",
    "kl_value_red, histo_coco_red, histo_real_red = color_kl_divergence(coco_images, real_images, 0)\n",
    "kl_value_green, histo_coco_green, histo_real_green = color_kl_divergence(coco_images, real_images, 1)\n",
    "kl_value_blue, histo_coco_blue, histo_real_blue = color_kl_divergence(coco_images, real_images, 2)\n",
    "\n",
    "kl_value_grayscale, histo_coco_gray, histo_real_gray = kl_divergence(coco_images, real_images)\n",
    "\n",
    "print(\"RGB KL Divergence from cocogan to real\")\n",
    "print(\"R:\",kl_value_red)\n",
    "print(\"G:\",kl_value_green)\n",
    "print(\"B:\",kl_value_blue)\n",
    "print(\"Greyscale KL Divergence from cocogan to real\")\n",
    "print(kl_value_grayscale)\n",
    "\n",
    "print()\n",
    "print()\n",
    "\n",
    "kl_value_red, histo_sg_red, _ = color_kl_divergence(stylegan_images, real_images, 0)\n",
    "kl_value_green, histo_sg_green, _ = color_kl_divergence(stylegan_images, real_images, 1)\n",
    "kl_value_blue, histo_sg_blue, _ = color_kl_divergence(stylegan_images, real_images, 2)\n",
    "\n",
    "kl_value_grayscale, histo_sg_gray, _ = kl_divergence(stylegan_images, real_images)\n",
    "\n",
    "print(\"RGB KL Divergence from stylegan to real\")\n",
    "print(\"R:\",kl_value_red)\n",
    "print(\"G:\",kl_value_green)\n",
    "print(\"B:\",kl_value_blue)\n",
    "print(\"Greyscale KL Divergence from stylegan to real\")\n",
    "print(kl_value_grayscale)"
   ]
  },
  {
   "cell_type": "code",
   "execution_count": null,
   "metadata": {},
   "outputs": [],
   "source": [
    "def display_histograms(red, green, blue, gray, title):\n",
    "    bins = np.linspace(0, 1, 25)\n",
    "        \n",
    "    \n",
    "    fig, (ax1, ax2, ax3, ax4) = plt.subplots(1, 4)\n",
    "    fig.suptitle(title,fontsize=20)\n",
    "    \n",
    "    fig.set_size_inches(20, 5)\n",
    "    fig.text(0.05,0.5, \"Frequencies\", ha=\"center\", va=\"center\", rotation=90,fontsize=20)\n",
    "    \n",
    "    ax1.plot(bins, red, color=\"red\")\n",
    "    ax1.set_xlabel('Red Pixel Values',fontsize=15)\n",
    "    ax1.set_ylim([0,2])\n",
    "    \n",
    "    ax2.plot(bins, green, color=\"green\")\n",
    "    ax2.set_xlabel('Green Pixel Values',fontsize=15)\n",
    "    ax2.set_ylim([0,2])\n",
    "    \n",
    "    ax3.plot(bins, blue, color=\"blue\")\n",
    "    ax3.set_xlabel('Blue Pixel Values',fontsize=15)\n",
    "    ax3.set_ylim([0,2])\n",
    "    \n",
    "    ax4.plot(bins, gray, color=\"gray\")\n",
    "    ax4.set_xlabel('Gray Pixel Values',fontsize=15)\n",
    "    ax4.set_ylim([0,2])\n",
    "    \n",
    "    \n",
    "    plt.show()\n",
    "    "
   ]
  },
  {
   "cell_type": "code",
   "execution_count": null,
   "metadata": {},
   "outputs": [],
   "source": [
    "display_histograms(histo_sg_red, histo_sg_green, histo_sg_blue, histo_sg_gray, \"StyleGAN color frequencies\")"
   ]
  },
  {
   "cell_type": "code",
   "execution_count": null,
   "metadata": {},
   "outputs": [],
   "source": [
    "display_histograms(histo_coco_red, histo_coco_green, histo_coco_blue, histo_coco_gray, \"CocoGAN color frequencies\")"
   ]
  },
  {
   "cell_type": "code",
   "execution_count": null,
   "metadata": {},
   "outputs": [],
   "source": [
    "display_histograms(histo_real_red, histo_real_green, histo_real_blue, histo_real_gray, \"Real Image color frequencies\")"
   ]
  },
  {
   "cell_type": "markdown",
   "metadata": {
    "id": "RILIdjFwe_fx"
   },
   "source": [
    "## Classifier\n"
   ]
  },
  {
   "cell_type": "code",
   "execution_count": null,
   "metadata": {
    "colab": {
     "base_uri": "https://localhost:8080/"
    },
    "id": "CUHxSc5vWVKf",
    "outputId": "d767f838-cd67-48b9-81b3-3b2d8ec57081"
   },
   "outputs": [],
   "source": [
    "from keras.layers import Conv2D, MaxPooling2D, Flatten, Dense\n",
    "from keras.models import Sequential\n",
    "\n",
    "model = Sequential()\n",
    "\n",
    "model.add(Conv2D(16, (5,5), activation = 'relu', input_shape = (256,256,3)))\n",
    "model.add(MaxPooling2D(pool_size = (2,2)))\n",
    "\n",
    "model.add(Conv2D(32,(5,5), activation = 'relu'))\n",
    "model.add(MaxPooling2D(pool_size = (2,2)))\n",
    "\n",
    "model.add(Conv2D(64,(5,5), activation = 'relu'))\n",
    "model.add(MaxPooling2D(pool_size = (2,2)))\n",
    "\n",
    "model.add(Conv2D(64,(5,5), activation = 'relu'))\n",
    "model.add(MaxPooling2D(pool_size = (2,2)))\n",
    "\n",
    "model.add(Conv2D(64,(5,5), activation = 'relu'))\n",
    "model.add(MaxPooling2D(pool_size = (2,2)))\n",
    "\n",
    "model.add(Flatten())\n",
    "\n",
    "model.add(Dense(64, activation='relu'))\n",
    "\n",
    "model.add(Dense(1, activation='sigmoid'))\n",
    "\n",
    "\n",
    "model.compile(optimizer=\"adam\",\n",
    "              loss='binary_crossentropy',\n",
    "              metrics=['accuracy'])\n"
   ]
  },
  {
   "cell_type": "code",
   "execution_count": null,
   "metadata": {
    "id": "aqNZn4AF8wWW"
   },
   "outputs": [],
   "source": [
    "from sklearn.utils import shuffle\n",
    "\n",
    "X_train = np.concatenate([real_images, coco_images[0:512], stylegan_images[0:512]])\n",
    "Y_train = np.concatenate([np.ones(1024), np.zeros(512), np.zeros(512)])\n",
    "\n",
    "X_train, Y_train = shuffle(X_train, Y_train)"
   ]
  },
  {
   "cell_type": "code",
   "execution_count": null,
   "metadata": {
    "id": "asQBdzn2hPku"
   },
   "outputs": [],
   "source": [
    "model.fit(X_train, Y_train, epochs=3, batch_size = 64, validation_split=0.1)"
   ]
  },
  {
   "cell_type": "code",
   "execution_count": null,
   "metadata": {},
   "outputs": [],
   "source": [
    "results_coco = model.evaluate(coco_images[512:], np.zeros(512), batch_size=128)\n",
    "print(\"test loss, test acc:\", results_coco)"
   ]
  },
  {
   "cell_type": "code",
   "execution_count": null,
   "metadata": {},
   "outputs": [],
   "source": [
    "results_sg = model.evaluate(stylegan_images[512:], np.zeros(512), batch_size=128)\n",
    "print(\"test loss, test acc:\", results_sg)"
   ]
  },
  {
   "cell_type": "markdown",
   "metadata": {
    "id": "5i9qpSPtAa7x"
   },
   "source": [
    "## PCA"
   ]
  },
  {
   "cell_type": "code",
   "execution_count": null,
   "metadata": {
    "id": "CNVHXQGfAbu3"
   },
   "outputs": [],
   "source": [
    "from sklearn.decomposition import PCA\n",
    "pca = PCA(2) \n",
    "\n",
    "grayscale_real = to_grayscale(real_images)\n",
    "grayscale_real = grayscale_real.reshape((grayscale_real.shape[0], grayscale_real.shape[1] * grayscale_real.shape[2]))\n",
    "\n",
    "grayscale_coco = to_grayscale(coco_images)\n",
    "grayscale_coco = grayscale_coco.reshape((grayscale_coco.shape[0], grayscale_coco.shape[1] * grayscale_coco.shape[2]))\n",
    "\n",
    "grayscale_stylegan = to_grayscale(stylegan_images)\n",
    "grayscale_stylegan = grayscale_stylegan.reshape((grayscale_stylegan.shape[0], grayscale_stylegan.shape[1] * grayscale_stylegan.shape[2]))\n",
    "\n",
    "labels = np.concatenate((np.ones(grayscale_real.shape[0]) * 2, np.ones(grayscale_stylegan.shape[0]), np.zeros(grayscale_coco.shape[0])))\n",
    "converted_data = pca.fit_transform(np.concatenate((grayscale_real, grayscale_stylegan, grayscale_coco)), y=labels)"
   ]
  },
  {
   "cell_type": "code",
   "execution_count": null,
   "metadata": {
    "colab": {
     "base_uri": "https://localhost:8080/",
     "height": 715
    },
    "id": "cqrY9_zvBMKi",
    "outputId": "401804ba-8380-4f93-b058-ca699f4e0d3a"
   },
   "outputs": [],
   "source": [
    "plt.style.use('seaborn-whitegrid')\n",
    "plt.figure(figsize = (12,12))\n",
    "c_map = plt.cm.get_cmap('inferno', 3)\n",
    "plt.scatter(converted_data[:, 0], converted_data[:, 1], s = 15,\n",
    "            cmap = c_map , c = labels)\n",
    "plt.colorbar()\n",
    "plt.xlabel('PC-1') , plt.ylabel('PC-2')\n",
    "plt.show()"
   ]
  },
  {
   "cell_type": "code",
   "execution_count": null,
   "metadata": {
    "id": "af0Y_3x0DuBt"
   },
   "outputs": [],
   "source": []
  },
  {
   "cell_type": "markdown",
   "metadata": {
    "id": "5i9qpSPtAa7x"
   },
   "source": [
    "## FID"
   ]
  },
  {
   "cell_type": "code",
   "execution_count": null,
   "metadata": {},
   "outputs": [],
   "source": [
    "from keras.applications.inception_v3 import InceptionV3\n",
    "from keras.applications.inception_v3 import preprocess_input\n",
    "\n",
    "from skimage.transform import resize\n",
    "from scipy.linalg import sqrtm"
   ]
  },
  {
   "cell_type": "code",
   "execution_count": null,
   "metadata": {},
   "outputs": [],
   "source": [
    "#reference: https://machinelearningmastery.com/how-to-implement-the-frechet-inception-distance-fid-from-scratch/\n",
    "\n",
    "def scale_images(images, new_shape):\n",
    "\tscaled_images = []\n",
    "\tfor image in images:\t\t\n",
    "\t\tnew_image = resize(image, new_shape, 0)\t\t\n",
    "\t\tscaled_images.append(new_image)\n",
    "\treturn asarray(scaled_images)\n",
    "\n",
    "def calculate_fid(model, images1, images2):\n",
    "\tact1 = model.predict(images1)\n",
    "\tact2 = model.predict(images2)\n",
    "\t# calculate mean and covariance statistics\n",
    "\tmu1, sigma1 = act1.mean(axis=0), cov(act1, rowvar=False)\n",
    "\tmu2, sigma2 = act2.mean(axis=0), cov(act2, rowvar=False)\n",
    "\t# calculate sum squared difference between means\n",
    "\tssdiff = numpy.sum((mu1 - mu2)**2.0)\n",
    "\t# calculate sqrt of product between cov\n",
    "\tcovmean = sqrtm(sigma1.dot(sigma2))\n",
    "\t# check and correct imaginary numbers from sqrt\n",
    "\tif iscomplexobj(covmean):\n",
    "\t\tcovmean = covmean.real\n",
    "\t# calculate score\n",
    "\tfid = ssdiff + trace(sigma1 + sigma2 - 2.0 * covmean)\n",
    "\treturn fid\n",
    "\n",
    "model = InceptionV3(include_top=False, pooling='avg', input_shape=(299,299,3))\n",
    "\n",
    "scaled_real = preprocess_input(scale_images(real_images, (299,299,3)))\n",
    "scaled_coco = preprocess_input(scale_images(coco_images, (299,299,3)))\n",
    "scaled_stylegan = preprocess_input(scale_images(stylegan_images, (299,299,3)))\n",
    "\n",
    "fid_coco_real = calculate_fid(model, scaled_coco, scaled_real)\n",
    "fid_stylegan_real = calculate_fid(model, scaled_stylegan, scaled_real)"
   ]
  },
  {
   "cell_type": "code",
   "execution_count": null,
   "metadata": {},
   "outputs": [],
   "source": [
    "print(\"FID COCO:\", fid_coco_real)\n",
    "print(\"FID Stylegan:\", fid_stylegan_real)"
   ]
  },
  {
   "cell_type": "markdown",
   "metadata": {
    "id": "9gGmcWJQ3b99"
   },
   "source": [
    "# Latent Images\n",
    "\n"
   ]
  },
  {
   "cell_type": "code",
   "execution_count": null,
   "metadata": {},
   "outputs": [],
   "source": [
    "# Download\n",
    "!curl https://storage.googleapis.com/dcgan_data/latent_images_coco.npy --output latent_images_coco.npy"
   ]
  },
  {
   "cell_type": "code",
   "execution_count": null,
   "metadata": {},
   "outputs": [],
   "source": [
    "# Load\n",
    "coco_latent = np.load(\"latent_images_coco.npy\")"
   ]
  },
  {
   "cell_type": "code",
   "execution_count": null,
   "metadata": {},
   "outputs": [],
   "source": [
    "coco_latent.shape"
   ]
  },
  {
   "cell_type": "code",
   "execution_count": null,
   "metadata": {},
   "outputs": [],
   "source": [
    "def display_interpolated_images(images, count):\n",
    "  w=256\n",
    "  h=256\n",
    "  fig=plt.figure(figsize=(5 * count, 7))\n",
    "\n",
    "  for i in range(1, count +1):      \n",
    "      img = images[i-1]\n",
    "      fig.add_subplot(1, count, i)\n",
    "      plt.axis('off')\n",
    "      plt.imshow(img)  \n",
    "        \n",
    "  fig.subplots_adjust(wspace=0, hspace=0)\n",
    "  plt.axis('off')    \n",
    "  plt.show()\n",
    "\n",
    "display_interpolated_images(coco_latent[49], 10)"
   ]
  },
  {
   "cell_type": "markdown",
   "metadata": {
    "id": "IqMcZMMB6yTI"
   },
   "source": [
    "###### Random tests\n",
    "\n"
   ]
  },
  {
   "cell_type": "markdown",
   "metadata": {
    "id": "W4Ly6qUA66X_"
   },
   "source": [
    "### Display means\n"
   ]
  },
  {
   "cell_type": "code",
   "execution_count": null,
   "metadata": {
    "colab": {
     "base_uri": "https://localhost:8080/",
     "height": 180
    },
    "id": "pYG-It036zha",
    "outputId": "6a94ca31-13f3-4702-f2ee-32e03e379548"
   },
   "outputs": [],
   "source": [
    "real_mean = real_images.mean(axis = 0)\n",
    "coco_mean = coco_images.mean(axis = 0)\n",
    "stylegan_mean = stylegan_images.mean(axis=0)"
   ]
  },
  {
   "cell_type": "code",
   "execution_count": null,
   "metadata": {
    "colab": {
     "base_uri": "https://localhost:8080/",
     "height": 269
    },
    "id": "Xm-4ejPQ7Gp8",
    "outputId": "1ae69424-ba60-48a1-e800-401b3b8bad2b"
   },
   "outputs": [],
   "source": [
    "display_image(real_mean)"
   ]
  },
  {
   "cell_type": "code",
   "execution_count": null,
   "metadata": {
    "colab": {
     "base_uri": "https://localhost:8080/",
     "height": 269
    },
    "id": "xERy89Hg7IdA",
    "outputId": "714101ce-47ca-4704-da92-397bb57662bf"
   },
   "outputs": [],
   "source": [
    "display_image(coco_mean)"
   ]
  },
  {
   "cell_type": "code",
   "execution_count": null,
   "metadata": {
    "id": "4TGouVSV87T1"
   },
   "outputs": [],
   "source": [
    "display_image(stylegan_mean)"
   ]
  },
  {
   "cell_type": "code",
   "execution_count": null,
   "metadata": {
    "id": "FbaHksWs9bwR"
   },
   "outputs": [],
   "source": [
    "# Color gradient\n",
    "gradient = np.ones((10, 256, 256, 3))\n",
    "\n",
    "for i in range(10):\n",
    "    gradient[i, :, :, 0] *= i/10;\n",
    "\n",
    "gradient[:, :, :, 1] *= 0.6;\n",
    "gradient[:, :, :, 2] *= 0.6;\n",
    "\n",
    "display_interpolated_images(gradient, 10)"
   ]
  },
  {
   "cell_type": "code",
   "execution_count": null,
   "metadata": {},
   "outputs": [],
   "source": []
  }
 ],
 "metadata": {
  "colab": {
   "collapsed_sections": [],
   "name": "gan_performance_testing.ipynb",
   "provenance": []
  },
  "environment": {
   "name": "tf2-gpu.2-3.m65",
   "type": "gcloud",
   "uri": "gcr.io/deeplearning-platform-release/tf2-gpu.2-3:m65"
  },
  "kernelspec": {
   "display_name": "Python 3",
   "language": "python",
   "name": "python3"
  },
  "language_info": {
   "codemirror_mode": {
    "name": "ipython",
    "version": 3
   },
   "file_extension": ".py",
   "mimetype": "text/x-python",
   "name": "python",
   "nbconvert_exporter": "python",
   "pygments_lexer": "ipython3",
   "version": "3.7.10"
  }
 },
 "nbformat": 4,
 "nbformat_minor": 4
}

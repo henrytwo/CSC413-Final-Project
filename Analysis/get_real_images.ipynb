{
 "cells": [
  {
   "cell_type": "code",
   "execution_count": null,
   "id": "alternate-comparative",
   "metadata": {},
   "outputs": [],
   "source": [
    "import tensorflow\n",
    "import tensorflow_datasets as tfds\n",
    "import numpy as np\n",
    "from skimage.transform import resize"
   ]
  },
  {
   "cell_type": "code",
   "execution_count": null,
   "id": "acknowledged-institute",
   "metadata": {},
   "outputs": [],
   "source": [
    "ds = tfds.load('lsun/bedroom', split='train')"
   ]
  },
  {
   "cell_type": "code",
   "execution_count": null,
   "id": "lyric-mobility",
   "metadata": {},
   "outputs": [],
   "source": [
    "npds = tfds.as_numpy(ds)"
   ]
  },
  {
   "cell_type": "code",
   "execution_count": null,
   "id": "plain-hearts",
   "metadata": {},
   "outputs": [],
   "source": [
    "# Get numpy images\n",
    "def save_images(filename, images):\n",
    "    np.save(filename, images)\n",
    "\n",
    "\n",
    "count = 50000\n",
    "\n",
    "i = 0\n",
    "file_count = 0\n",
    "\n",
    "images = []\n",
    "for ex in npds:\n",
    "    if i == count:\n",
    "        break\n",
    "    \n",
    "    if i > 0 and i % 5000 == 0:\n",
    "        save_images(\"images_\" + str(file_count) + \".npy\", np.array(images))\n",
    "        images = []\n",
    "        file_count += 1\n",
    "        \n",
    "    \n",
    "    images.append(resize(ex['image'], (256, 256)))\n",
    "    \n",
    "    i+= 1\n",
    "\n",
    "   "
   ]
  },
  {
   "cell_type": "code",
   "execution_count": null,
   "id": "lucky-detroit",
   "metadata": {},
   "outputs": [],
   "source": []
  },
  {
   "cell_type": "code",
   "execution_count": null,
   "id": "ignored-hostel",
   "metadata": {},
   "outputs": [],
   "source": []
  },
  {
   "cell_type": "code",
   "execution_count": null,
   "id": "atmospheric-humanity",
   "metadata": {},
   "outputs": [],
   "source": []
  },
  {
   "cell_type": "code",
   "execution_count": null,
   "id": "threatened-night",
   "metadata": {},
   "outputs": [],
   "source": []
  },
  {
   "cell_type": "code",
   "execution_count": null,
   "id": "emerging-professional",
   "metadata": {},
   "outputs": [],
   "source": []
  },
  {
   "cell_type": "code",
   "execution_count": null,
   "id": "sporting-preference",
   "metadata": {},
   "outputs": [],
   "source": []
  },
  {
   "cell_type": "code",
   "execution_count": null,
   "id": "dependent-insider",
   "metadata": {},
   "outputs": [],
   "source": []
  },
  {
   "cell_type": "code",
   "execution_count": null,
   "id": "embedded-thursday",
   "metadata": {},
   "outputs": [],
   "source": []
  }
 ],
 "metadata": {
  "environment": {
   "name": "tf2-gpu.2-3.m65",
   "type": "gcloud",
   "uri": "gcr.io/deeplearning-platform-release/tf2-gpu.2-3:m65"
  },
  "kernelspec": {
   "display_name": "Python 3",
   "language": "python",
   "name": "python3"
  },
  "language_info": {
   "codemirror_mode": {
    "name": "ipython",
    "version": 3
   },
   "file_extension": ".py",
   "mimetype": "text/x-python",
   "name": "python",
   "nbconvert_exporter": "python",
   "pygments_lexer": "ipython3",
   "version": "3.7.10"
  }
 },
 "nbformat": 4,
 "nbformat_minor": 5
}
